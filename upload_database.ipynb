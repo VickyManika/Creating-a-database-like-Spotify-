{
 "cells": [
  {
   "cell_type": "code",
   "execution_count": null,
   "id": "5198e021",
   "metadata": {},
   "outputs": [],
   "source": [
    "import csv\n",
    "import openpyxl\n",
    "\n",
    "# Open the Excel file\n",
    "workbook = openpyxl.load_workbook('artist.xlsx')\n",
    "sheet = workbook['Sheet1']\n",
    "\n",
    "# Create a CSV writer object\n",
    "csv_file = open('artist1.txt', 'w', newline='')\n",
    "writer = csv.writer(csv_file, delimiter=',')\n",
    "\n",
    "# Write the data from the Excel sheet to the text file\n",
    "for row in sheet.rows:\n",
    "    values = []\n",
    "    for cell in row:\n",
    "        if cell.value is not None:\n",
    "            if isinstance(cell.value, int):\n",
    "                values.append(cell.value)\n",
    "            else:\n",
    "                values.append(\"'\" + str(cell.value) + \"'\")\n",
    "    writer.writerow(values)\n",
    "\n",
    "# Close the file\n",
    "csv_file.close()\n"
   ]
  },
  {
   "cell_type": "code",
   "execution_count": 6,
   "id": "63e8dcc8",
   "metadata": {},
   "outputs": [],
   "source": []
  },
  {
   "cell_type": "code",
   "execution_count": 30,
   "id": "f8ab04e8",
   "metadata": {},
   "outputs": [],
   "source": []
  },
  {
   "cell_type": "code",
   "execution_count": 83,
   "id": "197ed314",
   "metadata": {
    "scrolled": true
   },
   "outputs": [],
   "source": [
    "import pandas as  pd\n",
    "##### the correct one\n",
    "# Open the Excel file\n",
    "workbook = openpyxl.load_workbook('Listento.xlsx')\n",
    "sheet = workbook['Sheet1']\n",
    "\n",
    "# Create a CSV writer object\n",
    "csv_file = open('Listento.txt', 'w', newline='')\n",
    "writer = csv.writer(csv_file, delimiter=',')\n",
    "\n",
    "# Write the data from the Excel sheet to the text file\n",
    "for row in sheet.rows:\n",
    "    values = []\n",
    "    for cell in row:\n",
    "        if cell.value is not None:\n",
    "            if isinstance(cell.value, int):\n",
    "                values.append(cell.value)\n",
    "            else:\n",
    "                values.append(\"'\" + str(cell.value) + \"'\")\n",
    "    writer.writerow(values)\n",
    "\n",
    "# Close the file\n",
    "csv_file.close()\n",
    "\n",
    "\n"
   ]
  },
  {
   "cell_type": "code",
   "execution_count": 84,
   "id": "9fe89d42",
   "metadata": {},
   "outputs": [],
   "source": [
    "with open('Listento.txt', 'r') as f:\n",
    "    lines = f.readlines()\n",
    "    # Remove empty lines\n",
    "    lines = list(filter(lambda x: x.strip(), lines))\n",
    "    header = lines[0]\n",
    "    lines = lines[1:]\n",
    "    with open('Listento.txt', 'w') as new_f:\n",
    "        new_f.writelines(lines)"
   ]
  },
  {
   "cell_type": "code",
   "execution_count": null,
   "id": "c2c7f31c",
   "metadata": {},
   "outputs": [],
   "source": []
  },
  {
   "cell_type": "code",
   "execution_count": 85,
   "id": "3412235d",
   "metadata": {},
   "outputs": [
    {
     "data": {
      "text/plain": [
       "[\"520,'24lvdbt9pS7DFEjhEWSl49',1000\\n\",\n",
       " \"528,'6o5RbQYhmF4yRRw7ZArxGL',1000000\\n\",\n",
       " \"521,'5ueyLj6e6oVaTY0KQ6yLaA',800000\\n\",\n",
       " \"540,'3aEJMh1cXKEjgh52claxQp',1500000\\n\",\n",
       " \"532,'2vSxjnyrWrtxyfzO47EX6q',2000000\\n\",\n",
       " \"524,'5yQ9iMZXGcr5rlO4hoLsP4',400000\\n\",\n",
       " \"539,'3HuJDcOWx0gE9Yng2uWY7K',754000\\n\",\n",
       " \"535,'50RwvvEKX5Q7AZt8FTAwIF',1400\\n\",\n",
       " \"520,'3YdKJzcoMZMacISlpY4QoP',400000\\n\",\n",
       " \"528,'648TTtYB0bH0P8Hfy0FmkL',750000\\n\",\n",
       " \"537,'2WaYW84yWij5NSCpgSeU2R',6700000\\n\",\n",
       " \"522,'3KzgdYUlqV6TOG7JCmx2Wg',23000\\n\",\n",
       " \"531,'4gUDdUr5yK0JGlR49zSRVt',4500000\\n\",\n",
       " \"533,'2Aq3BiLhITGHe6YSzkzOvi',15000000\\n\",\n",
       " \"527,'2HyPrPSANTIPkR6CfiytwY',700000\\n\",\n",
       " \"530,'0x0ffSAP6PkdoDgHOfroof',18520\\n\",\n",
       " \"534,'4GAhAw0RCzNVP976NRMOqO',35000\\n\",\n",
       " \"536,'4esOae7i4rqTbAu9o5Pxco',480000\\n\",\n",
       " \"538,'01u6AEzGbGbQyYVdxajxqk',452000\\n\",\n",
       " \"529,'4fHDlIntTsRGSyTg5UYZYC',588000\\n\"]"
      ]
     },
     "execution_count": 85,
     "metadata": {},
     "output_type": "execute_result"
    }
   ],
   "source": [
    "lines\n",
    "\n"
   ]
  },
  {
   "cell_type": "code",
   "execution_count": null,
   "id": "cf14a021",
   "metadata": {},
   "outputs": [],
   "source": []
  }
 ],
 "metadata": {
  "kernelspec": {
   "display_name": "Python 3 (ipykernel)",
   "language": "python",
   "name": "python3"
  },
  "language_info": {
   "codemirror_mode": {
    "name": "ipython",
    "version": 3
   },
   "file_extension": ".py",
   "mimetype": "text/x-python",
   "name": "python",
   "nbconvert_exporter": "python",
   "pygments_lexer": "ipython3",
   "version": "3.9.13"
  }
 },
 "nbformat": 4,
 "nbformat_minor": 5
}
